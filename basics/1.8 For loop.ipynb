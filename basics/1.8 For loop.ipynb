{
  "nbformat": 4,
  "nbformat_minor": 0,
  "metadata": {
    "celltoolbar": "Slideshow",
    "kernelspec": {
      "display_name": "Python 3",
      "language": "python",
      "name": "python3"
    },
    "language_info": {
      "codemirror_mode": {
        "name": "ipython",
        "version": 3
      },
      "file_extension": ".py",
      "mimetype": "text/x-python",
      "name": "python",
      "nbconvert_exporter": "python",
      "pygments_lexer": "ipython3",
      "version": "3.7.1"
    },
    "colab": {
      "name": "1.8 For loop.ipynb",
      "version": "0.3.2",
      "provenance": []
    }
  },
  "cells": [
    {
      "cell_type": "markdown",
      "metadata": {
        "id": "39hQ6F-VnH3S",
        "colab_type": "text"
      },
      "source": [
        "# Python for Loop"
      ]
    },
    {
      "cell_type": "markdown",
      "metadata": {
        "id": "AeZZH-q0nH3U",
        "colab_type": "text"
      },
      "source": [
        "The for loop in Python is used to iterate over a sequence (list, tuple, string) or other iterable objects. \n",
        "    \n",
        "Iterating over a sequence is called traversal."
      ]
    },
    {
      "cell_type": "code",
      "metadata": {
        "id": "4KuL_QvZnH3V",
        "colab_type": "code",
        "colab": {}
      },
      "source": [
        "a1 = [1,2,3]\n",
        "a2 = [1,2,3]\n",
        "a3 = a2"
      ],
      "execution_count": 0,
      "outputs": []
    },
    {
      "cell_type": "code",
      "metadata": {
        "id": "XDW72qbznH3Y",
        "colab_type": "code",
        "colab": {
          "base_uri": "https://localhost:8080/",
          "height": 34
        },
        "outputId": "c298744f-132f-40ef-a327-2cead8caef46"
      },
      "source": [
        "a2 == a3"
      ],
      "execution_count": 7,
      "outputs": [
        {
          "output_type": "execute_result",
          "data": {
            "text/plain": [
              "True"
            ]
          },
          "metadata": {
            "tags": []
          },
          "execution_count": 7
        }
      ]
    },
    {
      "cell_type": "code",
      "metadata": {
        "id": "3eU-HL46nH3c",
        "colab_type": "code",
        "colab": {
          "base_uri": "https://localhost:8080/",
          "height": 34
        },
        "outputId": "ab7772db-e863-4320-d4fa-efcb34305a19"
      },
      "source": [
        "a3 is a2"
      ],
      "execution_count": 8,
      "outputs": [
        {
          "output_type": "execute_result",
          "data": {
            "text/plain": [
              "True"
            ]
          },
          "metadata": {
            "tags": []
          },
          "execution_count": 8
        }
      ]
    },
    {
      "cell_type": "markdown",
      "metadata": {
        "id": "MIfAPr5rnH3f",
        "colab_type": "text"
      },
      "source": [
        "# Syntax:"
      ]
    },
    {
      "cell_type": "markdown",
      "metadata": {
        "id": "sFQ0Z_jfnH3f",
        "colab_type": "text"
      },
      "source": [
        "    for element in sequence :\n",
        "\n",
        "        Body of for"
      ]
    },
    {
      "cell_type": "markdown",
      "metadata": {
        "id": "hdAj0EyLnH3g",
        "colab_type": "text"
      },
      "source": [
        "Here, element is the variable that takes the value of the item inside the sequence on each iteration.\n",
        "\n",
        "Loop continues until we reach the last item in the sequence. "
      ]
    },
    {
      "cell_type": "markdown",
      "metadata": {
        "id": "WHbsybXLnH3g",
        "colab_type": "text"
      },
      "source": [
        "# Flow Chart"
      ]
    },
    {
      "cell_type": "markdown",
      "metadata": {
        "id": "X1NOZtBunH3h",
        "colab_type": "text"
      },
      "source": [
        "![title](https://github.com/DeepasriPrasad/codingProject1/blob/master/forLoop.jpg?raw=1)"
      ]
    },
    {
      "cell_type": "markdown",
      "metadata": {
        "id": "1C57DcltnH3h",
        "colab_type": "text"
      },
      "source": [
        "# Example"
      ]
    },
    {
      "cell_type": "code",
      "metadata": {
        "id": "y9s9T25NnH3i",
        "colab_type": "code",
        "colab": {},
        "outputId": "c81f6884-794c-4d4a-a1f0-104f96829e80"
      },
      "source": [
        "#Find product of all numbers present in a list\n",
        "\n",
        "lst = [10, 20, 30, 40, 50]\n",
        "\n",
        "product = 1\n",
        "#iterating over the list\n",
        "for ele in lst:\n",
        "    product *= ele\n",
        "\n",
        "print(\"Product is: {}\".format(product))"
      ],
      "execution_count": 0,
      "outputs": [
        {
          "output_type": "stream",
          "text": [
            "Product is: 12000000\n"
          ],
          "name": "stdout"
        }
      ]
    },
    {
      "cell_type": "markdown",
      "metadata": {
        "id": "9_N0_tPfnH3l",
        "colab_type": "text"
      },
      "source": [
        "# range() function"
      ]
    },
    {
      "cell_type": "markdown",
      "metadata": {
        "id": "XpwUZQiJnH3l",
        "colab_type": "text"
      },
      "source": [
        "We can generate a sequence of numbers using range() function. range(10) will generate numbers from 0 to 9 (10 numbers).\n",
        "\n",
        "We can also define the start, stop and step size as range(start,stop,step size). step size defaults to 1 if not provided.\n",
        "\n",
        "This function does not store all the values in memory, it would be inefficient. So it remembers the start, stop, step size and generates the next number on the go."
      ]
    },
    {
      "cell_type": "code",
      "metadata": {
        "id": "nmAhhAblnH3m",
        "colab_type": "code",
        "colab": {
          "base_uri": "https://localhost:8080/",
          "height": 186
        },
        "outputId": "8756f223-202e-4152-e7af-dce5e4ff5c6a"
      },
      "source": [
        "#print range of 10\n",
        "for i in range(10):\n",
        "    print(i)"
      ],
      "execution_count": 9,
      "outputs": [
        {
          "output_type": "stream",
          "text": [
            "0\n",
            "1\n",
            "2\n",
            "3\n",
            "4\n",
            "5\n",
            "6\n",
            "7\n",
            "8\n",
            "9\n"
          ],
          "name": "stdout"
        }
      ]
    },
    {
      "cell_type": "code",
      "metadata": {
        "id": "xxj868BVnH3p",
        "colab_type": "code",
        "colab": {
          "base_uri": "https://localhost:8080/",
          "height": 186
        },
        "outputId": "6d3b8314-b726-474f-f59b-2ee10faf8e48"
      },
      "source": [
        "#print range of numbers from 1 to 20 with step size of 2\n",
        "n=20\n",
        "for i in range(0, n, 2):\n",
        "    print(i)"
      ],
      "execution_count": 15,
      "outputs": [
        {
          "output_type": "stream",
          "text": [
            "0\n",
            "2\n",
            "4\n",
            "6\n",
            "8\n",
            "10\n",
            "12\n",
            "14\n",
            "16\n",
            "18\n"
          ],
          "name": "stdout"
        }
      ]
    },
    {
      "cell_type": "code",
      "metadata": {
        "id": "tRj3sykInH3r",
        "colab_type": "code",
        "colab": {},
        "outputId": "391643a3-188d-4a67-ecae-ce861180a61a"
      },
      "source": [
        "help(range)"
      ],
      "execution_count": 0,
      "outputs": [
        {
          "output_type": "stream",
          "text": [
            "Help on class range in module builtins:\n",
            "\n",
            "class range(object)\n",
            " |  range(stop) -> range object\n",
            " |  range(start, stop[, step]) -> range object\n",
            " |  \n",
            " |  Return an object that produces a sequence of integers from start (inclusive)\n",
            " |  to stop (exclusive) by step.  range(i, j) produces i, i+1, i+2, ..., j-1.\n",
            " |  start defaults to 0, and stop is omitted!  range(4) produces 0, 1, 2, 3.\n",
            " |  These are exactly the valid indices for a list of 4 elements.\n",
            " |  When step is given, it specifies the increment (or decrement).\n",
            " |  \n",
            " |  Methods defined here:\n",
            " |  \n",
            " |  __bool__(self, /)\n",
            " |      self != 0\n",
            " |  \n",
            " |  __contains__(self, key, /)\n",
            " |      Return key in self.\n",
            " |  \n",
            " |  __eq__(self, value, /)\n",
            " |      Return self==value.\n",
            " |  \n",
            " |  __ge__(self, value, /)\n",
            " |      Return self>=value.\n",
            " |  \n",
            " |  __getattribute__(self, name, /)\n",
            " |      Return getattr(self, name).\n",
            " |  \n",
            " |  __getitem__(self, key, /)\n",
            " |      Return self[key].\n",
            " |  \n",
            " |  __gt__(self, value, /)\n",
            " |      Return self>value.\n",
            " |  \n",
            " |  __hash__(self, /)\n",
            " |      Return hash(self).\n",
            " |  \n",
            " |  __iter__(self, /)\n",
            " |      Implement iter(self).\n",
            " |  \n",
            " |  __le__(self, value, /)\n",
            " |      Return self<=value.\n",
            " |  \n",
            " |  __len__(self, /)\n",
            " |      Return len(self).\n",
            " |  \n",
            " |  __lt__(self, value, /)\n",
            " |      Return self<value.\n",
            " |  \n",
            " |  __ne__(self, value, /)\n",
            " |      Return self!=value.\n",
            " |  \n",
            " |  __reduce__(...)\n",
            " |      Helper for pickle.\n",
            " |  \n",
            " |  __repr__(self, /)\n",
            " |      Return repr(self).\n",
            " |  \n",
            " |  __reversed__(...)\n",
            " |      Return a reverse iterator.\n",
            " |  \n",
            " |  count(...)\n",
            " |      rangeobject.count(value) -> integer -- return number of occurrences of value\n",
            " |  \n",
            " |  index(...)\n",
            " |      rangeobject.index(value, [start, [stop]]) -> integer -- return index of value.\n",
            " |      Raise ValueError if the value is not present.\n",
            " |  \n",
            " |  ----------------------------------------------------------------------\n",
            " |  Static methods defined here:\n",
            " |  \n",
            " |  __new__(*args, **kwargs) from builtins.type\n",
            " |      Create and return a new object.  See help(type) for accurate signature.\n",
            " |  \n",
            " |  ----------------------------------------------------------------------\n",
            " |  Data descriptors defined here:\n",
            " |  \n",
            " |  start\n",
            " |  \n",
            " |  step\n",
            " |  \n",
            " |  stop\n",
            "\n"
          ],
          "name": "stdout"
        }
      ]
    },
    {
      "cell_type": "code",
      "metadata": {
        "id": "OS8TwqnvnH3u",
        "colab_type": "code",
        "colab": {},
        "outputId": "a42f2f6c-75f8-4d91-d32c-88d852bec6f4"
      },
      "source": [
        "lst = [\"satish\", \"srinu\", \"murali\", \"naveen\", \"bramha\"]\n",
        "\n",
        "#iterate over the list using index\n",
        "#for index in range(len(lst)):\n",
        "#    print(lst[index])\n",
        "for ele in lst:\n",
        "    print(ele)"
      ],
      "execution_count": 0,
      "outputs": [
        {
          "output_type": "stream",
          "text": [
            "satish\n",
            "srinu\n",
            "murali\n",
            "naveen\n",
            "bramha\n"
          ],
          "name": "stdout"
        }
      ]
    },
    {
      "cell_type": "markdown",
      "metadata": {
        "id": "JiqW1d-MnH3x",
        "colab_type": "text"
      },
      "source": [
        "# for loop with else"
      ]
    },
    {
      "cell_type": "markdown",
      "metadata": {
        "id": "kSd0yAyenH3x",
        "colab_type": "text"
      },
      "source": [
        "A for loop can have an optional else block as well. The else part is executed if the items in the sequence used in for loop exhausts.\n",
        "\n",
        "break statement can be used to stop a for loop. In such case, the else part is ignored.\n",
        "\n",
        "Hence, a for loop's else part runs if no break occurs."
      ]
    },
    {
      "cell_type": "code",
      "metadata": {
        "id": "Q1BXoWEbnH3y",
        "colab_type": "code",
        "colab": {
          "base_uri": "https://localhost:8080/",
          "height": 84
        },
        "outputId": "194c8d6f-b7e8-4ab9-bab8-57d5b8a0912e"
      },
      "source": [
        "numbers = [1, 2, 3]\n",
        "\n",
        "#iterating over the list\n",
        "for item in numbers:\n",
        "    print(item)\n",
        "else:\n",
        "    print(\"no item left in the list\")"
      ],
      "execution_count": 16,
      "outputs": [
        {
          "output_type": "stream",
          "text": [
            "1\n",
            "2\n",
            "3\n",
            "no item left in the list\n"
          ],
          "name": "stdout"
        }
      ]
    },
    {
      "cell_type": "code",
      "metadata": {
        "id": "jJfQP9hlnH32",
        "colab_type": "code",
        "colab": {
          "base_uri": "https://localhost:8080/",
          "height": 51
        },
        "outputId": "006e6a58-2b8f-4781-9314-ec4794d0f54e"
      },
      "source": [
        "for item in numbers:\n",
        "    print(item)\n",
        "    if item % 2 == 0:\n",
        "        break\n",
        "else:\n",
        "    print(\"no item left in the list\")"
      ],
      "execution_count": 17,
      "outputs": [
        {
          "output_type": "stream",
          "text": [
            "1\n",
            "2\n"
          ],
          "name": "stdout"
        }
      ]
    },
    {
      "cell_type": "markdown",
      "metadata": {
        "id": "G6feSJYmnH36",
        "colab_type": "text"
      },
      "source": [
        "# Assignment 1.3: Python Program to display all prime numbers within an interval"
      ]
    },
    {
      "cell_type": "code",
      "metadata": {
        "id": "6JfUK5UB4aZC",
        "colab_type": "code",
        "colab": {
          "base_uri": "https://localhost:8080/",
          "height": 1000
        },
        "outputId": "4fc153a4-24e5-46c4-dbd8-c2a226173e01"
      },
      "source": [
        "\n",
        "for n in range(1,51):\n",
        "  if(n==1 or n==0):\n",
        "    print(\"{} is special\".format(n))\n",
        "  else:\n",
        "    print(\"---------------------------------------\\n\")\n",
        "    for i in range(2, int(n/2)+1):\n",
        "      if(n % i == 0):\n",
        "        print(\"{} is not a prime number, it's divisible by {}*{}\".format(n,i,int(n/2)))\n",
        "        break;\n",
        "    else: print(\"{} is a prime number\".format(n))\n",
        "\n",
        "\n",
        "\n",
        "\n"
      ],
      "execution_count": 23,
      "outputs": [
        {
          "output_type": "stream",
          "text": [
            "1 is special\n",
            "---------------------------------------\n",
            "\n",
            "2 is a prime number\n",
            "---------------------------------------\n",
            "\n",
            "3 is a prime number\n",
            "---------------------------------------\n",
            "\n",
            "4 is not a prime number, it's divisible by 2*2\n",
            "---------------------------------------\n",
            "\n",
            "5 is a prime number\n",
            "---------------------------------------\n",
            "\n",
            "6 is not a prime number, it's divisible by 2*3\n",
            "---------------------------------------\n",
            "\n",
            "7 is a prime number\n",
            "---------------------------------------\n",
            "\n",
            "8 is not a prime number, it's divisible by 2*4\n",
            "---------------------------------------\n",
            "\n",
            "9 is not a prime number, it's divisible by 3*4\n",
            "---------------------------------------\n",
            "\n",
            "10 is not a prime number, it's divisible by 2*5\n",
            "---------------------------------------\n",
            "\n",
            "11 is a prime number\n",
            "---------------------------------------\n",
            "\n",
            "12 is not a prime number, it's divisible by 2*6\n",
            "---------------------------------------\n",
            "\n",
            "13 is a prime number\n",
            "---------------------------------------\n",
            "\n",
            "14 is not a prime number, it's divisible by 2*7\n",
            "---------------------------------------\n",
            "\n",
            "15 is not a prime number, it's divisible by 3*7\n",
            "---------------------------------------\n",
            "\n",
            "16 is not a prime number, it's divisible by 2*8\n",
            "---------------------------------------\n",
            "\n",
            "17 is a prime number\n",
            "---------------------------------------\n",
            "\n",
            "18 is not a prime number, it's divisible by 2*9\n",
            "---------------------------------------\n",
            "\n",
            "19 is a prime number\n",
            "---------------------------------------\n",
            "\n",
            "20 is not a prime number, it's divisible by 2*10\n",
            "---------------------------------------\n",
            "\n",
            "21 is not a prime number, it's divisible by 3*10\n",
            "---------------------------------------\n",
            "\n",
            "22 is not a prime number, it's divisible by 2*11\n",
            "---------------------------------------\n",
            "\n",
            "23 is a prime number\n",
            "---------------------------------------\n",
            "\n",
            "24 is not a prime number, it's divisible by 2*12\n",
            "---------------------------------------\n",
            "\n",
            "25 is not a prime number, it's divisible by 5*12\n",
            "---------------------------------------\n",
            "\n",
            "26 is not a prime number, it's divisible by 2*13\n",
            "---------------------------------------\n",
            "\n",
            "27 is not a prime number, it's divisible by 3*13\n",
            "---------------------------------------\n",
            "\n",
            "28 is not a prime number, it's divisible by 2*14\n",
            "---------------------------------------\n",
            "\n",
            "29 is a prime number\n",
            "---------------------------------------\n",
            "\n",
            "30 is not a prime number, it's divisible by 2*15\n",
            "---------------------------------------\n",
            "\n",
            "31 is a prime number\n",
            "---------------------------------------\n",
            "\n",
            "32 is not a prime number, it's divisible by 2*16\n",
            "---------------------------------------\n",
            "\n",
            "33 is not a prime number, it's divisible by 3*16\n",
            "---------------------------------------\n",
            "\n",
            "34 is not a prime number, it's divisible by 2*17\n",
            "---------------------------------------\n",
            "\n",
            "35 is not a prime number, it's divisible by 5*17\n",
            "---------------------------------------\n",
            "\n",
            "36 is not a prime number, it's divisible by 2*18\n",
            "---------------------------------------\n",
            "\n",
            "37 is a prime number\n",
            "---------------------------------------\n",
            "\n",
            "38 is not a prime number, it's divisible by 2*19\n",
            "---------------------------------------\n",
            "\n",
            "39 is not a prime number, it's divisible by 3*19\n",
            "---------------------------------------\n",
            "\n",
            "40 is not a prime number, it's divisible by 2*20\n",
            "---------------------------------------\n",
            "\n",
            "41 is a prime number\n",
            "---------------------------------------\n",
            "\n",
            "42 is not a prime number, it's divisible by 2*21\n",
            "---------------------------------------\n",
            "\n",
            "43 is a prime number\n",
            "---------------------------------------\n",
            "\n",
            "44 is not a prime number, it's divisible by 2*22\n",
            "---------------------------------------\n",
            "\n",
            "45 is not a prime number, it's divisible by 3*22\n",
            "---------------------------------------\n",
            "\n",
            "46 is not a prime number, it's divisible by 2*23\n",
            "---------------------------------------\n",
            "\n",
            "47 is a prime number\n",
            "---------------------------------------\n",
            "\n",
            "48 is not a prime number, it's divisible by 2*24\n",
            "---------------------------------------\n",
            "\n",
            "49 is not a prime number, it's divisible by 7*24\n",
            "---------------------------------------\n",
            "\n",
            "50 is not a prime number, it's divisible by 2*25\n"
          ],
          "name": "stdout"
        }
      ]
    }
  ]
}