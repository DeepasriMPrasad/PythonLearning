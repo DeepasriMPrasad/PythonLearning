{
  "nbformat": 4,
  "nbformat_minor": 0,
  "metadata": {
    "celltoolbar": "Slideshow",
    "kernelspec": {
      "display_name": "Python 3",
      "language": "python",
      "name": "python3"
    },
    "language_info": {
      "codemirror_mode": {
        "name": "ipython",
        "version": 3
      },
      "file_extension": ".py",
      "mimetype": "text/x-python",
      "name": "python",
      "nbconvert_exporter": "python",
      "pygments_lexer": "ipython3",
      "version": "3.7.1"
    },
    "colab": {
      "name": "Copy of 1.7 While loop.ipynb",
      "version": "0.3.2",
      "provenance": [],
      "include_colab_link": true
    }
  },
  "cells": [
    {
      "cell_type": "markdown",
      "metadata": {
        "id": "view-in-github",
        "colab_type": "text"
      },
      "source": [
        "<a href=\"https://colab.research.google.com/github/DeepasriPrasad/codingProject1/blob/master/Copy_of_1_7_While_loop.ipynb\" target=\"_parent\"><img src=\"https://colab.research.google.com/assets/colab-badge.svg\" alt=\"Open In Colab\"/></a>"
      ]
    },
    {
      "cell_type": "markdown",
      "metadata": {
        "id": "s9l_i35-c2vE",
        "colab_type": "text"
      },
      "source": [
        "# Python while Loop"
      ]
    },
    {
      "cell_type": "markdown",
      "metadata": {
        "id": "4Qwp6sbEc2vI",
        "colab_type": "text"
      },
      "source": [
        "The while loop in Python is used to iterate over a block of code as long as the test expression (condition) is true.\n",
        "\n"
      ]
    },
    {
      "cell_type": "markdown",
      "metadata": {
        "id": "WCxodRmFc2vK",
        "colab_type": "text"
      },
      "source": [
        "# Syntax:"
      ]
    },
    {
      "cell_type": "markdown",
      "metadata": {
        "id": "6njx9dhmc2vL",
        "colab_type": "text"
      },
      "source": [
        "    while test_expression:\n",
        "        \n",
        "        Body of while"
      ]
    },
    {
      "cell_type": "markdown",
      "metadata": {
        "id": "Hnlh1BJ-c2vM",
        "colab_type": "text"
      },
      "source": [
        "The body of the loop is entered only if the test_expression evaluates to True. \n",
        "\n",
        "After one iteration, the test expression is checked again. \n",
        "\n",
        "This process continues until the test_expression evaluates to False."
      ]
    },
    {
      "cell_type": "markdown",
      "metadata": {
        "id": "gCzr0mzQc2vN",
        "colab_type": "text"
      },
      "source": [
        "# Flow Chart"
      ]
    },
    {
      "cell_type": "markdown",
      "metadata": {
        "id": "HcQzoK_Uc2vO",
        "colab_type": "text"
      },
      "source": [
        "![title](https://github.com/DeepasriPrasad/codingProject1/blob/master/whileloop.jpg?raw=1)"
      ]
    },
    {
      "cell_type": "markdown",
      "metadata": {
        "id": "lWsB0QfIc2vP",
        "colab_type": "text"
      },
      "source": [
        "# Example"
      ]
    },
    {
      "cell_type": "code",
      "metadata": {
        "id": "gDqRGRCLc2vQ",
        "colab_type": "code",
        "outputId": "0e6cdbbb-e86f-4612-bd69-689abafde447",
        "colab": {
          "base_uri": "https://localhost:8080/",
          "height": 34
        }
      },
      "source": [
        "#Find product of all numbers present in a list\n",
        "\n",
        "lst = [10, 20, 30, 40, 60]\n",
        "\n",
        "product = 1\n",
        "index = 0\n",
        "\n",
        "while index < len(lst):\n",
        "    product *= lst[index]\n",
        "    index += 1\n",
        "\n",
        "print(\"Product is: {}\".format(product))\n"
      ],
      "execution_count": 0,
      "outputs": [
        {
          "output_type": "stream",
          "text": [
            "Product is: 14400000\n"
          ],
          "name": "stdout"
        }
      ]
    },
    {
      "cell_type": "markdown",
      "metadata": {
        "id": "ueXhlEruc2vX",
        "colab_type": "text"
      },
      "source": [
        "# while Loop with else\n"
      ]
    },
    {
      "cell_type": "markdown",
      "metadata": {
        "id": "TCmpRnGYc2vY",
        "colab_type": "text"
      },
      "source": [
        "Same as that of for loop, we can have an optional else block with while loop as well.\n",
        "\n",
        "The else part is executed if the condition in the while loop evaluates to False. The while loop can be terminated with a break statement.\n",
        "\n",
        "In such case, the else part is ignored. Hence, a while loop's else part runs if no break occurs and the condition is false.\n",
        "\n"
      ]
    },
    {
      "cell_type": "code",
      "metadata": {
        "id": "4BicTYWXc2vZ",
        "colab_type": "code",
        "outputId": "e66b3170-a16d-482e-b556-309ada6c5ac6",
        "colab": {}
      },
      "source": [
        "numbers = [1, 2, 3,4,5]\n",
        "\n",
        "#iterating over the list\n",
        "index = 0\n",
        "while index < len(numbers):\n",
        "    print(numbers[index])\n",
        "    index += 1\n",
        "    \n",
        "else:\n",
        "    print(\"no item left in the list\")"
      ],
      "execution_count": 0,
      "outputs": [
        {
          "output_type": "stream",
          "text": [
            "1\n",
            "2\n",
            "3\n",
            "4\n",
            "5\n",
            "no item left in the list\n"
          ],
          "name": "stdout"
        }
      ]
    },
    {
      "cell_type": "markdown",
      "metadata": {
        "id": "jB-fy6xZc2vc",
        "colab_type": "text"
      },
      "source": [
        "# Assignment 1.2: Python Program to check given number is Prime number or not"
      ]
    },
    {
      "cell_type": "code",
      "metadata": {
        "id": "DC6xT2wWi_TZ",
        "colab_type": "code",
        "outputId": "725aab21-765c-454e-94e6-235b6699346b",
        "colab": {
          "base_uri": "https://localhost:8080/",
          "height": 253
        }
      },
      "source": [
        "numberList = [1,2,3,4,5,6,7,8,9,10,11,12,13,14]\n",
        "\n",
        "index = 0\n",
        "\n",
        "while index < len(numberList):\n",
        "  n = numberList[index]\n",
        "  index= index+1\n",
        "  if(n==0 or n==1):\n",
        "    print(\"{} is special\".format(n))\n",
        "  else:\n",
        "    i=2\n",
        "    while(i<=n/2):\n",
        "      if(n % i == 0):\n",
        "        print(\"{} is not prime, it's divisible by {}*{}\".format(n,int(n/i),i))\n",
        "        break;\n",
        "      i+=1\n",
        "    else:\n",
        "      print(\"{} is prime\".format(n))\n",
        "    \n",
        "  \n",
        "\n",
        "\n",
        "\n"
      ],
      "execution_count": 0,
      "outputs": [
        {
          "output_type": "stream",
          "text": [
            "1 is special\n",
            "2 is prime\n",
            "3 is prime\n",
            "4 is not prime, it's divisible by 2*2\n",
            "5 is prime\n",
            "6 is not prime, it's divisible by 3*2\n",
            "7 is prime\n",
            "8 is not prime, it's divisible by 4*2\n",
            "9 is not prime, it's divisible by 3*3\n",
            "10 is not prime, it's divisible by 5*2\n",
            "11 is prime\n",
            "12 is not prime, it's divisible by 6*2\n",
            "13 is prime\n",
            "14 is not prime, it's divisible by 7*2\n"
          ],
          "name": "stdout"
        }
      ]
    }
  ]
}